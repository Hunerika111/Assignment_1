{
 "cells": [
  {
   "cell_type": "markdown",
   "id": "65c36856-c8ac-465b-a358-72fc07148a2a",
   "metadata": {},
   "source": [
    "Python Baiscs Assignment "
   ]
  },
  {
   "cell_type": "markdown",
   "id": "ba480b71-a6fb-475d-ba9f-80a089b93484",
   "metadata": {},
   "source": [
    "1. Explain the key features of python that make it a popular choice for programming.\n",
    "\n",
    "Python is a programming language that is easy to understand and write, making it a popular choice among developers and programmers.\n",
    "It is compatible with various programming paradigms, such as procedural, object-oriented, and functional programming. \n",
    "Python has a large and active community of developers, an extensive standard library, and third-party packages for various domains.\n"
   ]
  },
  {
   "cell_type": "markdown",
   "id": "0d2e1f97-8580-4c83-ab14-943e374cd767",
   "metadata": {},
   "source": [
    "2. Describe the role of predefined keywords in python and provide examples of how they are used in a program.\n",
    "\n",
    "Keywords are reserved words in Python that have special meanings and cannot be used as identifiers (variable names, function names, etc.). \n",
    "Examples of keywords include if, else, while, for, def, class, import, try, except, return, True, False, None, etc.\n",
    "Keywords are case-sensitive and cannot be redefined or overridden within a Python program.\n"
   ]
  },
  {
   "cell_type": "markdown",
   "id": "ee20f71e-1d37-4b65-9330-44e840920eb1",
   "metadata": {},
   "source": [
    "3. Compare and contrast mutable and immutable objects in python with examples.\n",
    "\n",
    "Mutable Objects: Mutable objects can be changed after their creation. This means that the data inside the object can be altered without creating a new object. Common examples include lists and dictionaries.\n"
   ]
  },
  {
   "cell_type": "code",
   "execution_count": 1,
   "id": "0dab705a-1be6-4d06-8e3a-fc00cda067d9",
   "metadata": {},
   "outputs": [
    {
     "name": "stdout",
     "output_type": "stream",
     "text": [
      "[4, 2, 3]\n"
     ]
    }
   ],
   "source": [
    "#List Example:\n",
    "\n",
    "my_list = [1, 2, 3]\n",
    "my_list[0] = 4  \n",
    "print(my_list) "
   ]
  },
  {
   "cell_type": "code",
   "execution_count": 2,
   "id": "d63942d9-b01d-412a-89ef-bb5834917a67",
   "metadata": {},
   "outputs": [
    {
     "name": "stdout",
     "output_type": "stream",
     "text": [
      "{'a': 3, 'b': 2}\n"
     ]
    }
   ],
   "source": [
    "#Dictionary Example:\n",
    "\n",
    "my_dict = {'a': 1, 'b': 2}\n",
    "my_dict['a'] = 3  \n",
    "print(my_dict) "
   ]
  },
  {
   "cell_type": "markdown",
   "id": "51590024-0a44-44d3-9b29-9737a0537c86",
   "metadata": {},
   "source": [
    "Immutable Objects: Immutable objects cannot be changed after their creation. Any modification results in the creation of a new object. Examples include strings and tuples.\n"
   ]
  },
  {
   "cell_type": "code",
   "execution_count": 3,
   "id": "06b0b142-6b9a-4223-9941-9ac0c19b9c1d",
   "metadata": {},
   "outputs": [
    {
     "name": "stdout",
     "output_type": "stream",
     "text": [
      "hello\n",
      "jello\n"
     ]
    }
   ],
   "source": [
    "#String Example:\n",
    "\n",
    "my_string = \"hello\"\n",
    "new_string = my_string.replace(\"h\", \"j\") \n",
    "print(my_string)  \n",
    "print(new_string) "
   ]
  },
  {
   "cell_type": "code",
   "execution_count": 4,
   "id": "37db6d56-a360-4a25-85ba-acc553438783",
   "metadata": {},
   "outputs": [
    {
     "name": "stdout",
     "output_type": "stream",
     "text": [
      "(1, 2, 3)\n",
      "(4, 2, 3)\n"
     ]
    }
   ],
   "source": [
    "#Tuple Example:\n",
    "\n",
    "my_tuple = (1, 2, 3)\n",
    "new_tuple = (4, 2, 3) \n",
    "print(my_tuple) \n",
    "print(new_tuple)"
   ]
  },
  {
   "cell_type": "markdown",
   "id": "f7b911d1-70b6-48d8-8188-7216d33150ff",
   "metadata": {},
   "source": [
    "4. Discuss the different types of operators in python and provide examples of how they are used.\n",
    "\n",
    "Python operators are special symbols used to perform operations on variables and values. Here are the main types:\n"
   ]
  },
  {
   "cell_type": "code",
   "execution_count": 5,
   "id": "3493c4a1-30f1-417c-a72f-1bd29dcd1564",
   "metadata": {},
   "outputs": [
    {
     "name": "stdout",
     "output_type": "stream",
     "text": [
      "15\n",
      "5\n",
      "50\n",
      "2.0\n",
      "0\n",
      "100000\n",
      "2\n"
     ]
    }
   ],
   "source": [
    "#Arithmetic Operators:\n",
    "\n",
    "a = 10\n",
    "b = 5\n",
    "print(a + b)  \n",
    "print(a - b)  \n",
    "print(a * b)  \n",
    "print(a / b)  \n",
    "print(a % b)  \n",
    "print(a ** b)  \n",
    "print(a // b)  "
   ]
  },
  {
   "cell_type": "code",
   "execution_count": 6,
   "id": "8bf17cbb-a7ea-4079-b3f4-f16d15527ab4",
   "metadata": {},
   "outputs": [
    {
     "name": "stdout",
     "output_type": "stream",
     "text": [
      "False\n",
      "True\n",
      "True\n",
      "False\n",
      "True\n",
      "False\n"
     ]
    }
   ],
   "source": [
    "#Comparison Operators:\n",
    "\n",
    "a = 10\n",
    "b = 5\n",
    "print(a == b)  \n",
    "print(a != b) \n",
    "print(a > b)  \n",
    "print(a < b)  \n",
    "print(a >= b)  \n",
    "print(a <= b)  "
   ]
  },
  {
   "cell_type": "code",
   "execution_count": 7,
   "id": "ee82a848-6a92-4fdb-8fb1-a7e46cef053a",
   "metadata": {},
   "outputs": [
    {
     "name": "stdout",
     "output_type": "stream",
     "text": [
      "False\n",
      "True\n",
      "False\n"
     ]
    }
   ],
   "source": [
    "#Logical Operators:\n",
    "\n",
    "a = True\n",
    "b = False\n",
    "print(a and b)  \n",
    "print(a or b)  \n",
    "print(not a)  "
   ]
  },
  {
   "cell_type": "code",
   "execution_count": 8,
   "id": "f0e2ca26-11b4-4024-a2cf-652afffdd4d8",
   "metadata": {},
   "outputs": [
    {
     "name": "stdout",
     "output_type": "stream",
     "text": [
      "15\n",
      "12\n"
     ]
    }
   ],
   "source": [
    "#Assignment Operators:\n",
    "\n",
    "a = 10\n",
    "a += 5  \n",
    "print(a)  \n",
    "a -= 3 \n",
    "print(a)  "
   ]
  },
  {
   "cell_type": "code",
   "execution_count": 9,
   "id": "cc1bf490-f1a2-4b2e-920e-4f696c7c2e78",
   "metadata": {},
   "outputs": [
    {
     "name": "stdout",
     "output_type": "stream",
     "text": [
      "1\n",
      "7\n",
      "6\n",
      "-6\n",
      "10\n",
      "2\n"
     ]
    }
   ],
   "source": [
    "#Bitwise Operators:\n",
    "\n",
    "a = 5 \n",
    "b = 3  \n",
    "print(a & b)  \n",
    "print(a | b)  \n",
    "print(a ^ b)  \n",
    "print(~a)  \n",
    "print(a << 1)  \n",
    "print(a >> 1) "
   ]
  },
  {
   "cell_type": "code",
   "execution_count": 10,
   "id": "f53189ac-59c4-48f1-ab67-3444b136f4d7",
   "metadata": {},
   "outputs": [
    {
     "name": "stdout",
     "output_type": "stream",
     "text": [
      "True\n",
      "False\n",
      "True\n"
     ]
    }
   ],
   "source": [
    "#Identity Operators:\n",
    "\n",
    "a = [1, 2, 3]\n",
    "b = a\n",
    "c = [1, 2, 3]\n",
    "print(a is b)  \n",
    "print(a is c)  \n",
    "print(a is not c)  "
   ]
  },
  {
   "cell_type": "code",
   "execution_count": 11,
   "id": "702585d9-2fff-4541-a294-24d32b672318",
   "metadata": {},
   "outputs": [
    {
     "name": "stdout",
     "output_type": "stream",
     "text": [
      "True\n",
      "False\n",
      "True\n"
     ]
    }
   ],
   "source": [
    "#Membership Operators:\n",
    "\n",
    "a = [1, 2, 3]\n",
    "print(1 in a)  \n",
    "print(4 in a)  \n",
    "print(4 not in a)  "
   ]
  },
  {
   "cell_type": "markdown",
   "id": "db24592a-c712-4f91-96b4-74873147f6d0",
   "metadata": {},
   "source": [
    "5. Explain the concept of type casting in python with examples.\n",
    "\n",
    "Type casting refers to converting a variable from one type to another. Python provides several functions for type casting:\n"
   ]
  },
  {
   "cell_type": "code",
   "execution_count": 12,
   "id": "41b57985-960a-4c1c-aa3c-162471050234",
   "metadata": {},
   "outputs": [
    {
     "name": "stdout",
     "output_type": "stream",
     "text": [
      "5\n",
      "<class 'str'>\n"
     ]
    }
   ],
   "source": [
    "#Integer to String:\n",
    "\n",
    "a = 5\n",
    "b = str(a)\n",
    "print(b)  \n",
    "print(type(b))  "
   ]
  },
  {
   "cell_type": "code",
   "execution_count": 13,
   "id": "74c8b5ac-51b9-4d3b-be85-b1ec6ed5db95",
   "metadata": {},
   "outputs": [
    {
     "name": "stdout",
     "output_type": "stream",
     "text": [
      "5\n",
      "<class 'int'>\n"
     ]
    }
   ],
   "source": [
    "#String to Integer:\n",
    "\n",
    "a = \"5\"\n",
    "b = int(a)\n",
    "print(b) \n",
    "print(type(b)) "
   ]
  },
  {
   "cell_type": "code",
   "execution_count": 14,
   "id": "3f82f2bb-f23b-4c77-a77b-dc1091369417",
   "metadata": {},
   "outputs": [
    {
     "name": "stdout",
     "output_type": "stream",
     "text": [
      "5.0\n",
      "<class 'float'>\n"
     ]
    }
   ],
   "source": [
    "#Integer to Float:\n",
    "\n",
    "a = 5\n",
    "b = float(a)\n",
    "print(b)  \n",
    "print(type(b)) "
   ]
  },
  {
   "cell_type": "code",
   "execution_count": 15,
   "id": "37ed51f2-838f-4760-8f24-0d1b53fd785f",
   "metadata": {},
   "outputs": [
    {
     "name": "stdout",
     "output_type": "stream",
     "text": [
      "5\n",
      "<class 'int'>\n"
     ]
    }
   ],
   "source": [
    "#Float to Integer:\n",
    "\n",
    "a = 5.6\n",
    "b = int(a)\n",
    "print(b) \n",
    "print(type(b))  "
   ]
  },
  {
   "cell_type": "markdown",
   "id": "1ccf4d8e-6e3c-48e3-9d93-30508916d877",
   "metadata": {},
   "source": [
    "6. How do conditional statements work on python? Illustrate with examples.\n",
    "\n",
    "Conditional statements allow you to execute different code blocks based on certain conditions.\n"
   ]
  },
  {
   "cell_type": "code",
   "execution_count": 16,
   "id": "f7930c5a-ef0e-4362-97ab-314d3f78a8ed",
   "metadata": {},
   "outputs": [
    {
     "name": "stdout",
     "output_type": "stream",
     "text": [
      "a is greater than 5\n"
     ]
    }
   ],
   "source": [
    "#If Statement:\n",
    "a = 10\n",
    "if a > 5:\n",
    "    print(\"a is greater than 5\")"
   ]
  },
  {
   "cell_type": "code",
   "execution_count": 17,
   "id": "47231a46-cf99-4a65-933d-e08acbf1be06",
   "metadata": {},
   "outputs": [
    {
     "name": "stdout",
     "output_type": "stream",
     "text": [
      "a is not greater than 15\n"
     ]
    }
   ],
   "source": [
    "#If-Else Statement:\n",
    "\n",
    "a = 10\n",
    "if a > 15:\n",
    "    print(\"a is greater than 15\")\n",
    "else:\n",
    "    print(\"a is not greater than 15\")"
   ]
  },
  {
   "cell_type": "code",
   "execution_count": 18,
   "id": "4c505573-eddc-4510-9f43-8dcf96cfa5d9",
   "metadata": {},
   "outputs": [
    {
     "name": "stdout",
     "output_type": "stream",
     "text": [
      "a is equal to 10\n"
     ]
    }
   ],
   "source": [
    "#If-Elif-Else Statement:\n",
    "\n",
    "a = 10\n",
    "if a > 15:\n",
    "    print(\"a is greater than 15\")\n",
    "elif a == 10:\n",
    "    print(\"a is equal to 10\")\n",
    "else:\n",
    "   print(\"a is less than 15\")"
   ]
  },
  {
   "cell_type": "markdown",
   "id": "e8a77c8e-901b-46f2-9473-606c435d448a",
   "metadata": {},
   "source": [
    "7. Describe the different types of loops in python and their use cases with examples.\n",
    "\n",
    "Loops are used to iterate over a sequence of elements.\n"
   ]
  },
  {
   "cell_type": "code",
   "execution_count": 19,
   "id": "5f57ae63-e091-48b7-8664-b8d176a3e8d2",
   "metadata": {},
   "outputs": [
    {
     "name": "stdout",
     "output_type": "stream",
     "text": [
      "0\n",
      "1\n",
      "2\n",
      "3\n",
      "4\n"
     ]
    }
   ],
   "source": [
    "#For Loop:\n",
    "\n",
    "for i in range(5):\n",
    "    print(i)  "
   ]
  },
  {
   "cell_type": "code",
   "execution_count": 20,
   "id": "84abac0a-6e91-4183-8d7a-305ea018ca77",
   "metadata": {},
   "outputs": [
    {
     "name": "stdout",
     "output_type": "stream",
     "text": [
      "0\n",
      "1\n",
      "2\n",
      "3\n",
      "4\n"
     ]
    }
   ],
   "source": [
    "#While Loop:\n",
    "\n",
    "i = 0\n",
    "while i < 5:\n",
    "    print(i)  \n",
    "    i += 1"
   ]
  },
  {
   "cell_type": "code",
   "execution_count": null,
   "id": "f8d828ae-c210-480f-998d-a429da4a62bf",
   "metadata": {},
   "outputs": [],
   "source": [
    "#Nested Loops:\n",
    "\n",
    "for i in range(3):\n",
    "    for j in range(2):\n",
    "        print(i, j)"
   ]
  },
  {
   "cell_type": "code",
   "execution_count": null,
   "id": "42b5a258-2bd2-43f6-801d-65375058fee3",
   "metadata": {},
   "outputs": [],
   "source": [
    "#Break and Continue:\n",
    "\n",
    "for i in range(5):\n",
    "    if i == 3:\n",
    "        break  \n",
    "    print(i)  \n",
    "\n",
    "for i in range(5):\n",
    "    if i == 3:\n",
    "        continue  # Skip the rest of the loop when i is 3\n",
    "    print(i)  # Output: 0 1 2 4\n"
   ]
  },
  {
   "cell_type": "code",
   "execution_count": null,
   "id": "9f3f59a3-5e5f-487e-8cd2-c32926a6d92a",
   "metadata": {},
   "outputs": [],
   "source": []
  },
  {
   "cell_type": "code",
   "execution_count": null,
   "id": "a068fb28-5790-4222-98e8-5dc9163d332b",
   "metadata": {},
   "outputs": [],
   "source": []
  }
 ],
 "metadata": {
  "kernelspec": {
   "display_name": "Python 3 (ipykernel)",
   "language": "python",
   "name": "python3"
  },
  "language_info": {
   "codemirror_mode": {
    "name": "ipython",
    "version": 3
   },
   "file_extension": ".py",
   "mimetype": "text/x-python",
   "name": "python",
   "nbconvert_exporter": "python",
   "pygments_lexer": "ipython3",
   "version": "3.10.8"
  }
 },
 "nbformat": 4,
 "nbformat_minor": 5
}
